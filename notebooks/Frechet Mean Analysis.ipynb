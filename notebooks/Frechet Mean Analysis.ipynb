{
 "cells": [
  {
   "cell_type": "markdown",
   "id": "b6063184",
   "metadata": {},
   "source": [
    "## Fundamental questions on implementation of Frechet Mean in Geomstats\n",
    "\n",
    "### Q1 Please take a look at the Gradient Descent loop implementation as below and check the metric_dim variable definition.  \n"
   ]
  },
  {
   "cell_type": "raw",
   "id": "9c5d2bfe",
   "metadata": {},
   "source": [
    "while iteration < max_iter:\n",
    "    logs = metric.log(point=points, base_point=mean)\n",
    "\n",
    "    var = gs.sum(metric.squared_norm(logs, mean) * weights) / gs.sum(weights)\n",
    "\n",
    "    tangent_mean = gs.einsum(einsum_str, weights, logs)\n",
    "    tangent_mean /= sum_weights\n",
    "    norm = gs.linalg.norm(tangent_mean)\n",
    "\n",
    "    sq_dist = metric.squared_norm(tangent_mean, mean)\n",
    "    sq_dists_between_iterates.append(sq_dist)\n",
    "\n",
    "    var_is_0 = gs.isclose(var, 0.0)\n",
    "    metric_dim = metric.dim\n",
    "\n",
    "    sq_dist_is_small = gs.less_equal(sq_dist, epsilon * metric_dim)  # epsilon * n_points * embedding_space.dim\n",
    "    condition = ~gs.logical_or(var_is_0, sq_dist_is_small)\n",
    "    if not (condition or iteration == 0):\n",
    "        break\n",
    "\n",
    "    estimate_next = metric.exp(step * tangent_mean, mean)\n",
    "    mean = estimate_next\n",
    "    iteration += 1\n",
    "\n",
    "    if norm < norm_old:\n",
    "        norm_old = norm\n",
    "    elif norm > norm_old:\n",
    "        step = step / 2.0\n",
    "        \n",
    "\n",
    "metric_dim = metric.dim\n",
    "\n",
    "As per this logic metric_dim will always be infinity. Hence, the subsequent calculation for sq_dist_is_small will always be TRUE.\n",
    "\n",
    "sq_dist_is_small = gs.less_equal(sq_dist, epsilon * metric_dim)\n",
    "condition = ~gs.logical_or(var_is_0, sq_dist_is_small)\n",
    "\n",
    "condition variable will always be FALSE and hence the WHILE loop will always break after iteration == 0.\n",
    "\n",
    "if not (condition or iteration == 0):\n",
    "    break"
   ]
  },
  {
   "cell_type": "markdown",
   "id": "99dddd0b",
   "metadata": {},
   "source": [
    "### Q2 The Frechet Mean calculated will never be truly accurate or converged. Please analyze if the below definition for metric_dim would be appropriate? This is only when the metric used is SRV Metric."
   ]
  },
  {
   "cell_type": "raw",
   "id": "e04ba37b",
   "metadata": {},
   "source": [
    "if isinstance(metric, SRVMetric):\n",
    "    metric_dim = tangent_mean.shape[-2] * tangent_mean.shape[-1]"
   ]
  },
  {
   "cell_type": "markdown",
   "id": "9a315aba",
   "metadata": {},
   "source": [
    "### Calculating Frechet Mean of a set of curves. Scroll down for Q3."
   ]
  },
  {
   "cell_type": "code",
   "execution_count": 4,
   "id": "f9f81437",
   "metadata": {},
   "outputs": [
    {
     "name": "stderr",
     "output_type": "stream",
     "text": [
      "INFO: Using numpy backend\n"
     ]
    },
    {
     "name": "stdout",
     "output_type": "stream",
     "text": [
      "Total number of cells : 650\n",
      "['control' 'cytd' 'jasp']\n",
      "['dlm8' 'dunn']\n"
     ]
    }
   ],
   "source": [
    "import warnings\n",
    "import matplotlib.pyplot as plt\n",
    "import geomstats.backend as gs\n",
    "import geomstats.datasets.utils as data_utils\n",
    "import pandas as pd\n",
    "from geomstats.geometry.pre_shape import PreShapeSpace\n",
    "from geomstats.geometry.discrete_curves import R2, DiscreteCurves, SRVMetric\n",
    "from geomstats.learning.frechet_mean import FrechetMean\n",
    "\n",
    "warnings.filterwarnings(\"ignore\")\n",
    "gs.random.seed(2021)\n",
    "\n",
    "cells, lines, treatments = data_utils.load_cells()\n",
    "print(f\"Total number of cells : {len(cells)}\")\n",
    "\n",
    "TREATMENTS = gs.unique(treatments)\n",
    "print(TREATMENTS)\n",
    "\n",
    "LINES = gs.unique(lines)\n",
    "print(LINES)"
   ]
  },
  {
   "cell_type": "code",
   "execution_count": 7,
   "id": "3315c3e0",
   "metadata": {},
   "outputs": [
    {
     "name": "stdout",
     "output_type": "stream",
     "text": [
      "control :\n",
      "\t 114 dlm8\n",
      "\t 204 dunn\n",
      "cytd :\n",
      "\t 82 dlm8\n",
      "\t 93 dunn\n",
      "jasp :\n",
      "\t 62 dlm8\n",
      "\t 95 dunn\n"
     ]
    }
   ],
   "source": [
    "ds = {}\n",
    "n_cells_arr = gs.zeros((3, 2))\n",
    "\n",
    "for i, treatment in enumerate(TREATMENTS):\n",
    "    print(f\"{treatment} :\")\n",
    "    ds[treatment] = {}\n",
    "    for j, line in enumerate(LINES):\n",
    "        to_keep = gs.array(\n",
    "            [\n",
    "                one_treatment == treatment and one_line == line\n",
    "                for one_treatment, one_line in zip(treatments, lines)\n",
    "            ]\n",
    "        )\n",
    "        ds[treatment][line] = [\n",
    "            cell_i for cell_i, to_keep_i in zip(cells, to_keep) if to_keep_i\n",
    "        ]\n",
    "        nb = len(ds[treatment][line])\n",
    "        print(f\"\\t {nb} {line}\")\n",
    "        n_cells_arr[i, j] = nb\n",
    "\n",
    "n_cells_df = pd.DataFrame({\"dlm8\": n_cells_arr[:, 0], \"dunn\": n_cells_arr[:, 1]})\n",
    "n_cells_df = n_cells_df.set_index(TREATMENTS)\n",
    "\n",
    "# display(n_cells_df)\n",
    "len(ds[\"cytd\"][\"dlm8\"])\n",
    "\n",
    "def apply_func_to_ds(input_ds, func):\n",
    "    \"\"\"Apply the input function func to the input dictionnary input_ds.\n",
    "\n",
    "    This function goes through the dictionnary structure and applies\n",
    "    func to every cell in input_ds[treatment][line].\n",
    "\n",
    "    It stores the result in a dictionnary output_ds that is returned\n",
    "    to the user.\n",
    "\n",
    "    Parameters\n",
    "    ----------\n",
    "    input_ds : dict\n",
    "        Input dictionnary, with keys treatment-line.\n",
    "    func : callable\n",
    "        Function to be applied to the values of the dictionnary, i.e.\n",
    "        the cells.\n",
    "\n",
    "    Returns\n",
    "    -------\n",
    "    output_ds : dict\n",
    "        Output dictionnary, with the same keys as input_ds.\n",
    "    \"\"\"\n",
    "    output_ds = {}\n",
    "    for treatment in TREATMENTS:\n",
    "        output_ds[treatment] = {}\n",
    "        for line in LINES:\n",
    "            output_list = []\n",
    "            for one_cell in input_ds[treatment][line]:\n",
    "                output_list.append(func(one_cell))\n",
    "            output_ds[treatment][line] = gs.array(output_list)\n",
    "    return output_ds\n",
    "\n",
    "\n",
    "def interpolate(curve, nb_points):\n",
    "    \"\"\"Interpolate a discrete curve with nb_points from a discrete curve.\n",
    "\n",
    "    Returns\n",
    "    -------\n",
    "    interpolation : discrete curve with nb_points points\n",
    "    \"\"\"\n",
    "    old_length = curve.shape[0]\n",
    "    interpolation = gs.zeros((nb_points, 2))\n",
    "    incr = old_length / nb_points\n",
    "    pos = 0\n",
    "    for i in range(nb_points):\n",
    "        index = int(gs.floor(pos))\n",
    "        interpolation[i] = curve[index] + (pos - index) * (\n",
    "                curve[(index + 1) % old_length] - curve[index]\n",
    "        )\n",
    "        pos += incr\n",
    "    return interpolation\n",
    "\n",
    "\n",
    "N_SAMPLING_POINTS = 100\n",
    "\n",
    "cell_rand = cells[gs.random.randint(len(cells))]\n",
    "cell_interpolation = interpolate(cell_rand, N_SAMPLING_POINTS)"
   ]
  },
  {
   "cell_type": "code",
   "execution_count": 8,
   "id": "db502c8a",
   "metadata": {},
   "outputs": [],
   "source": [
    "ds_interp = apply_func_to_ds(\n",
    "    input_ds=ds, func=lambda x: interpolate(x, N_SAMPLING_POINTS)\n",
    ")"
   ]
  },
  {
   "cell_type": "code",
   "execution_count": 9,
   "id": "8c534f2d",
   "metadata": {},
   "outputs": [
    {
     "name": "stdout",
     "output_type": "stream",
     "text": [
      "(204, 100, 2)\n",
      "Shape of BASE_CURVE: (100, 2)\n",
      "(204, 100, 2)\n"
     ]
    }
   ],
   "source": [
    "M_AMBIENT = 2\n",
    "PRESHAPE_SPACE = PreShapeSpace(m_ambient=M_AMBIENT, k_landmarks=N_SAMPLING_POINTS)\n",
    "PRESHAPE_METRIC = PRESHAPE_SPACE.embedding_metric\n",
    "\n",
    "\n",
    "def exhaustive_align(curve, base_curve):\n",
    "    \"\"\"Align curve to base_curve to minimize the L² distance.\n",
    "\n",
    "    Returns\n",
    "    -------\n",
    "    aligned_curve : discrete curve\n",
    "    \"\"\"\n",
    "    nb_sampling = len(curve)\n",
    "    distances = gs.zeros(nb_sampling)\n",
    "\n",
    "    vector_1 = curve[1] - curve[0]\n",
    "    vector_2 = base_curve[1] - base_curve[0]\n",
    "    dot_product = gs.dot(vector_1, vector_2)\n",
    "\n",
    "    if dot_product < 0:\n",
    "        curve = curve[::-1]\n",
    "\n",
    "    for shift in range(nb_sampling):\n",
    "        reparametrized = [curve[(i + shift) % nb_sampling] for i in range(nb_sampling)]\n",
    "        aligned = PRESHAPE_SPACE.align(point=reparametrized, base_point=base_curve)\n",
    "        distances[shift] = PRESHAPE_METRIC.norm(\n",
    "            gs.array(aligned) - gs.array(base_curve)\n",
    "        )\n",
    "    shift_min = gs.argmin(distances)\n",
    "    reparametrized_min = [\n",
    "        curve[(i + shift_min) % nb_sampling] for i in range(nb_sampling)\n",
    "    ]\n",
    "    aligned_curve = PRESHAPE_SPACE.align(\n",
    "        point=reparametrized_min, base_point=base_curve\n",
    "    )\n",
    "    return aligned_curve\n",
    "\n",
    "\n",
    "ds_proj = apply_func_to_ds(ds_interp, func=PRESHAPE_SPACE.projection)\n",
    "print(ds_proj[\"control\"][\"dunn\"].shape)\n",
    "\n",
    "BASE_CURVE = ds_proj[\"control\"][\"dunn\"][0]\n",
    "print(\"Shape of BASE_CURVE:\", BASE_CURVE.shape)\n",
    "\n",
    "ds_align = apply_func_to_ds(ds_proj, func=lambda x: exhaustive_align(x, BASE_CURVE))\n",
    "print(ds_align[\"control\"][\"dunn\"].shape)"
   ]
  },
  {
   "cell_type": "code",
   "execution_count": 10,
   "id": "d7f44fcb",
   "metadata": {},
   "outputs": [
    {
     "name": "stdout",
     "output_type": "stream",
     "text": [
      "(650, 100, 2)\n"
     ]
    }
   ],
   "source": [
    "CURVES_SPACE = DiscreteCurves(R2)\n",
    "SRV_METRIC = CURVES_SPACE.square_root_velocity_metric\n",
    "\n",
    "cell_shapes_list = []\n",
    "for treatment in TREATMENTS:\n",
    "    for line in LINES:\n",
    "        cell_shapes_list.extend(ds_align[treatment][line])\n",
    "\n",
    "cell_shapes = gs.array(cell_shapes_list)\n",
    "print(cell_shapes.shape)"
   ]
  },
  {
   "cell_type": "markdown",
   "id": "f811e281",
   "metadata": {},
   "source": [
    "### Q3 While calculating Frechet Mean of 200 curves as below the calculation breaks as there are several NaNs in the mean_estimate. But calculating the Frechet mean for the first 151 curves doesn't generate any issues."
   ]
  },
  {
   "cell_type": "markdown",
   "id": "53716341",
   "metadata": {},
   "source": [
    "### Frechet Mean calculation for first 200 curves"
   ]
  },
  {
   "cell_type": "code",
   "execution_count": 11,
   "id": "6eb0aacc",
   "metadata": {},
   "outputs": [
    {
     "name": "stderr",
     "output_type": "stream",
     "text": [
      "WARNING: Maximum number of iterations 32 reached. The mean may be inaccurate\n"
     ]
    },
    {
     "data": {
      "text/plain": [
       "[<matplotlib.lines.Line2D at 0x1484ed210>]"
      ]
     },
     "execution_count": 11,
     "metadata": {},
     "output_type": "execute_result"
    },
    {
     "data": {
      "image/png": "[encoded data removed]",
      "text/plain": [
       "<Figure size 432x288 with 1 Axes>"
      ]
     },
     "metadata": {
      "needs_background": "light"
     },
     "output_type": "display_data"
    }
   ],
   "source": [
    "mean = FrechetMean(metric=SRV_METRIC, point_type=\"matrix\", method=\"default\")\n",
    "mean.fit(cell_shapes[:200])\n",
    "mean_estimate = mean.estimate_\n",
    "plt.plot(mean_estimate[:, 0], mean_estimate[:, 1], \"black\")"
   ]
  },
  {
   "cell_type": "markdown",
   "id": "f971666a",
   "metadata": {},
   "source": [
    "### Frechet Mean calculation for first 151 curves"
   ]
  },
  {
   "cell_type": "code",
   "execution_count": 32,
   "id": "cc519805",
   "metadata": {},
   "outputs": [
    {
     "data": {
      "text/plain": [
       "[<matplotlib.lines.Line2D at 0x148ef3f10>]"
      ]
     },
     "execution_count": 32,
     "metadata": {},
     "output_type": "execute_result"
    },
    {
     "data": {
      "image/png": "[encoded data removed]",
      "text/plain": [
       "<Figure size 432x288 with 1 Axes>"
      ]
     },
     "metadata": {
      "needs_background": "light"
     },
     "output_type": "display_data"
    }
   ],
   "source": [
    "mean = FrechetMean(metric=SRV_METRIC, point_type=\"matrix\", method=\"default\")\n",
    "mean.fit(cell_shapes[:151])\n",
    "mean_estimate = mean.estimate_\n",
    "plt.plot(mean_estimate[:, 0], mean_estimate[:, 1], \"black\")"
   ]
  },
  {
   "cell_type": "markdown",
   "id": "073c4479",
   "metadata": {},
   "source": [
    "### Only on including the 152th curve in the calculation, the Frechet Mean generation fails !"
   ]
  },
  {
   "cell_type": "code",
   "execution_count": 33,
   "id": "891e2ac7",
   "metadata": {},
   "outputs": [
    {
     "name": "stderr",
     "output_type": "stream",
     "text": [
      "WARNING: Maximum number of iterations 32 reached. The mean may be inaccurate\n"
     ]
    },
    {
     "data": {
      "text/plain": [
       "[<matplotlib.lines.Line2D at 0x148f8f5d0>]"
      ]
     },
     "execution_count": 33,
     "metadata": {},
     "output_type": "execute_result"
    },
    {
     "data": {
      "image/png": "[encoded data removed]",
      "text/plain": [
       "<Figure size 432x288 with 1 Axes>"
      ]
     },
     "metadata": {
      "needs_background": "light"
     },
     "output_type": "display_data"
    }
   ],
   "source": [
    "mean = FrechetMean(metric=SRV_METRIC, point_type=\"matrix\", method=\"default\")\n",
    "mean.fit(cell_shapes[:152])\n",
    "mean_estimate = mean.estimate_\n",
    "plt.plot(mean_estimate[:, 0], mean_estimate[:, 1], \"black\")"
   ]
  },
  {
   "cell_type": "markdown",
   "id": "214a6840",
   "metadata": {},
   "source": [
    "### Let's look at the cell shape for the 151th and 152th curve "
   ]
  },
  {
   "cell_type": "code",
   "execution_count": 35,
   "id": "d4008490",
   "metadata": {},
   "outputs": [
    {
     "data": {
      "text/plain": [
       "[<matplotlib.lines.Line2D at 0x148c75310>]"
      ]
     },
     "execution_count": 35,
     "metadata": {},
     "output_type": "execute_result"
    },
    {
     "data": {
      "image/png": "[encoded data removed]",
      "text/plain": [
       "<Figure size 432x288 with 1 Axes>"
      ]
     },
     "metadata": {
      "needs_background": "light"
     },
     "output_type": "display_data"
    }
   ],
   "source": [
    "plt.plot(cell_shapes[150][:, 0], cell_shapes[150][:, 1])"
   ]
  },
  {
   "cell_type": "code",
   "execution_count": 36,
   "id": "0591e3ca",
   "metadata": {},
   "outputs": [
    {
     "data": {
      "text/plain": [
       "[<matplotlib.lines.Line2D at 0x148c83490>]"
      ]
     },
     "execution_count": 36,
     "metadata": {},
     "output_type": "execute_result"
    },
    {
     "data": {
      "image/png": "[encoded data removed]",
      "text/plain": [
       "<Figure size 432x288 with 1 Axes>"
      ]
     },
     "metadata": {
      "needs_background": "light"
     },
     "output_type": "display_data"
    }
   ],
   "source": [
    "plt.plot(cell_shapes[151][:, 0], cell_shapes[151][:, 1])"
   ]
  },
  {
   "cell_type": "markdown",
   "id": "6090904b",
   "metadata": {},
   "source": [
    "### Frechet Mean for 151th cell shape with itself"
   ]
  },
  {
   "cell_type": "code",
   "execution_count": 38,
   "id": "301e7c94",
   "metadata": {},
   "outputs": [
    {
     "data": {
      "text/plain": [
       "[<matplotlib.lines.Line2D at 0x1491b9410>]"
      ]
     },
     "execution_count": 38,
     "metadata": {},
     "output_type": "execute_result"
    },
    {
     "data": {
      "image/png": "[encoded data removed]",
      "text/plain": [
       "<Figure size 432x288 with 1 Axes>"
      ]
     },
     "metadata": {
      "needs_background": "light"
     },
     "output_type": "display_data"
    }
   ],
   "source": [
    "random_index_1 = 150\n",
    "random_cell_1 = cell_shapes[random_index_1]\n",
    "\n",
    "random_index_2 = 150\n",
    "random_cell_2 = cell_shapes[random_index_2]\n",
    "\n",
    "small_cell_shapes_list = [random_cell_1, random_cell_2]\n",
    "small_cell_shapes = gs.array(small_cell_shapes_list)\n",
    "\n",
    "mean = FrechetMean(metric=SRV_METRIC, point_type=\"matrix\", method=\"default\")\n",
    "mean.fit(small_cell_shapes)\n",
    "mean_estimate = mean.estimate_\n",
    "\n",
    "plt.plot(mean_estimate[:, 0], mean_estimate[:, 1], \"black\")"
   ]
  },
  {
   "cell_type": "markdown",
   "id": "529a06f8",
   "metadata": {},
   "source": [
    "### Frechet Mean for 152th cell shape with itself"
   ]
  },
  {
   "cell_type": "code",
   "execution_count": 40,
   "id": "de0406c1",
   "metadata": {},
   "outputs": [
    {
     "name": "stderr",
     "output_type": "stream",
     "text": [
      "WARNING: Maximum number of iterations 32 reached. The mean may be inaccurate\n"
     ]
    },
    {
     "data": {
      "text/plain": [
       "[<matplotlib.lines.Line2D at 0x14924f8d0>]"
      ]
     },
     "execution_count": 40,
     "metadata": {},
     "output_type": "execute_result"
    },
    {
     "data": {
      "image/png": "[encoded data removed]",
      "text/plain": [
       "<Figure size 432x288 with 1 Axes>"
      ]
     },
     "metadata": {
      "needs_background": "light"
     },
     "output_type": "display_data"
    }
   ],
   "source": [
    "random_index_1 = 151\n",
    "random_cell_1 = cell_shapes[random_index_1]\n",
    "\n",
    "random_index_2 = 151\n",
    "random_cell_2 = cell_shapes[random_index_2]\n",
    "\n",
    "small_cell_shapes_list = [random_cell_1, random_cell_2]\n",
    "small_cell_shapes = gs.array(small_cell_shapes_list)\n",
    "\n",
    "mean = FrechetMean(metric=SRV_METRIC, point_type=\"matrix\", method=\"default\")\n",
    "mean.fit(small_cell_shapes)\n",
    "mean_estimate = mean.estimate_\n",
    "\n",
    "plt.plot(mean_estimate[:, 0], mean_estimate[:, 1], \"black\")"
   ]
  }
 ],
 "metadata": {
  "kernelspec": {
   "display_name": "Python 3 (ipykernel)",
   "language": "python",
   "name": "python3"
  },
  "language_info": {
   "codemirror_mode": {
    "name": "ipython",
    "version": 3
   },
   "file_extension": ".py",
   "mimetype": "text/x-python",
   "name": "python",
   "nbconvert_exporter": "python",
   "pygments_lexer": "ipython3",
   "version": "3.7.12"
  }
 },
 "nbformat": 4,
 "nbformat_minor": 5
}
